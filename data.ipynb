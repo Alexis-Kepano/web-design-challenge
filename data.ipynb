import pandas as pd

# Read the csv file in
df = pd.read_csv('Resources/cities.csv')

df.head()

# Save to file
df.to_html('data.html')
